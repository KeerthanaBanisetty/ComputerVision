{
 "cells": [
  {
   "cell_type": "code",
   "execution_count": null,
   "metadata": {},
   "outputs": [],
   "source": [
    "import cv2\n",
    "img = cv2.imread(\"image.png\",1)\n",
    "(h,w) =img.shape[:2]\n",
    "center = (w/2,h/2)\n",
    "angle90 = 90\n",
    "angle180 = 180\n",
    "angle270 = 270\n",
    "scale = 1.0\n",
    "M = cv2.getRotationMatrix2D(center,angle90,scale)\n",
    "rotated90 = cv2.warpAffine(img, M, (h,w))\n",
    "#180 degrees\n",
    "M = cv2.getRotationMatrix2D(center,angle180,scale)\n",
    "rotated180 = cv2.warpAffine(img, M, (w,h))\n",
    "#270 degrees\n",
    "M = cv2.getRotationMatrix2D(center,angle270,scale)\n",
    "rotated270 = cv2.warpAffine(img, M, (h,w))\n",
    "cv2.imshow('Original image',img)\n",
    "cv2.waitKey(0) #Waits until a key is pressed\n",
    "cv2.destroyAllWindows() #Destroy the window showing image\n",
    "cv2.imshow('image rotated by 90 degrees',rotated90)\n",
    "cv2.waitKey(0) #Waits until a key is pressed\n",
    "cv2.destroyAllWindows() #Destroy the window showing image\n",
    "cv2.imshow('image rotated by 180 degrees',rotated180)\n",
    "cv2.waitKey(0) #Waits until a key is pressed\n",
    "cv2.destroyAllWindows() #Destroy the window showing image\n",
    "cv2.imshow('image rotated by 270 degrees',rotated270)\n",
    "cv2.waitKey(0) #Waits until a key is pressed\n",
    "cv2.destroyAllWindows() #Destroy the window showing image"
   ]
  },
  {
   "cell_type": "code",
   "execution_count": null,
   "metadata": {},
   "outputs": [],
   "source": []
  }
 ],
 "metadata": {
  "kernelspec": {
   "display_name": "Python 3",
   "language": "python",
   "name": "python3"
  },
  "language_info": {
   "codemirror_mode": {
    "name": "ipython",
    "version": 3
   },
   "file_extension": ".py",
   "mimetype": "text/x-python",
   "name": "python",
   "nbconvert_exporter": "python",
   "pygments_lexer": "ipython3",
   "version": "3.8.3"
  }
 },
 "nbformat": 4,
 "nbformat_minor": 4
}
