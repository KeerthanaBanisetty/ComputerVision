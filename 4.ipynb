{
 "cells": [
  {
   "cell_type": "code",
   "execution_count": null,
   "metadata": {},
   "outputs": [],
   "source": [
    "import cv2\n",
    "import numpy as np\n",
    "#Load image\n",
    "image = cv2.imread(\"image.png\")\n",
    "gray = cv2.cvtColor(image, cv2.COLOR_BGR2GRAY)\n",
    "#Edge Detection\n",
    "edges = cv2.Canny(gray,50,150,apertureSize = 3)\n",
    "#Hough Line Detection\n",
    "lines = cv2.HoughLines(edges,1,np.pi/180,threshold = 150)\n",
    "#Draw Detected Lines\n",
    "if lines is not None:\n",
    "    for line in lines:\n",
    "         rho,theta = line[0]\n",
    "         a=np.cos(theta)\n",
    "         b=np.sin(theta)\n",
    "         x0 = a*rho\n",
    "         y0 = b*rho\n",
    "         x1 = int(x0 + 1000 * (-b))\n",
    "         y1 = int(y0 + 1000 * (a))\n",
    "         x2 = int(x0 - 1000 * (-b))\n",
    "         y2 = int(y0 - 1000 * (a))\n",
    "         cv2.line(image, (x1,y1),(x2,y2),(0,255,0),2)\n",
    "#Display Result\n",
    "cv2.imshow(\"Detected Lines\", image)\n",
    "cv2.waitKey(0)\n",
    "cv2.destroyAllWindows()"
   ]
  },
  {
   "cell_type": "code",
   "execution_count": null,
   "metadata": {},
   "outputs": [],
   "source": []
  }
 ],
 "metadata": {
  "kernelspec": {
   "display_name": "Python 3",
   "language": "python",
   "name": "python3"
  },
  "language_info": {
   "codemirror_mode": {
    "name": "ipython",
    "version": 3
   },
   "file_extension": ".py",
   "mimetype": "text/x-python",
   "name": "python",
   "nbconvert_exporter": "python",
   "pygments_lexer": "ipython3",
   "version": "3.8.3"
  }
 },
 "nbformat": 4,
 "nbformat_minor": 4
}
