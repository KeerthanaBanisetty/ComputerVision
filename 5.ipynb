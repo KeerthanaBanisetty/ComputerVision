{
 "cells": [
  {
   "cell_type": "code",
   "execution_count": 3,
   "metadata": {},
   "outputs": [
    {
     "name": "stdout",
     "output_type": "stream",
     "text": [
      "Foot of the normal:  (3, 3)\n"
     ]
    }
   ],
   "source": [
    "import cv2\n",
    "import numpy as np\n",
    "def foot_of_normal (line, point):\n",
    "    A,B,C =line\n",
    "    x0,y0 = point\n",
    "    denominator = A**2 + B**2\n",
    "    if denominator == 0:\n",
    "        raise ValueError(\"Invalid line Equation (A and B Cannot both be zero).\")\n",
    "\n",
    "    x = (B * (B * x0 -A * y0) -A * C) / denominator\n",
    "    y = (A * (-B * x0 +A * y0) -B * C) / denominator\n",
    "    return (int(x),int(y))\n",
    "#Example Usage\n",
    "line = (1,-1,0)\n",
    "point = (3,4)\n",
    "foot = foot_of_normal(line,point)\n",
    "print (\"Foot of the normal: \",foot)"
   ]
  },
  {
   "cell_type": "code",
   "execution_count": null,
   "metadata": {},
   "outputs": [],
   "source": []
  }
 ],
 "metadata": {
  "kernelspec": {
   "display_name": "Python 3",
   "language": "python",
   "name": "python3"
  },
  "language_info": {
   "codemirror_mode": {
    "name": "ipython",
    "version": 3
   },
   "file_extension": ".py",
   "mimetype": "text/x-python",
   "name": "python",
   "nbconvert_exporter": "python",
   "pygments_lexer": "ipython3",
   "version": "3.8.3"
  }
 },
 "nbformat": 4,
 "nbformat_minor": 4
}
