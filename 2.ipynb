{
 "cells": [
  {
   "cell_type": "code",
   "execution_count": null,
   "metadata": {},
   "outputs": [],
   "source": [
    "import cv2\n",
    "import numpy as np\n",
    "image = cv2.imread('image.png')\n",
    "image = cv2.resize(image,(300,200))\n",
    "gray = cv2.cvtColor(image, cv2.COLOR_BGR2GRAY )\n",
    "binary =cv2.Canny(gray,100,200)\n",
    "contours,hierarchy = cv2.findContours(binary,\n",
    "cv2.RETR_EXTERNAL ,cv2.CHAIN_APPROX_SIMPLE)\n",
    "output = image.copy()\n",
    "cv2.drawContours(output,contours,-1,(0,255,1),2)\n",
    "cv2.imshow('Original Image',image)\n",
    "cv2.imshow('Output',output)\n",
    "cv2.waitKey(0)\n",
    "cv2.destroyAllWindows();"
   ]
  },
  {
   "cell_type": "code",
   "execution_count": null,
   "metadata": {},
   "outputs": [],
   "source": []
  }
 ],
 "metadata": {
  "kernelspec": {
   "display_name": "Python 3",
   "language": "python",
   "name": "python3"
  },
  "language_info": {
   "codemirror_mode": {
    "name": "ipython",
    "version": 3
   },
   "file_extension": ".py",
   "mimetype": "text/x-python",
   "name": "python",
   "nbconvert_exporter": "python",
   "pygments_lexer": "ipython3",
   "version": "3.8.3"
  }
 },
 "nbformat": 4,
 "nbformat_minor": 4
}
